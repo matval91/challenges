{
 "cells": [
  {
   "cell_type": "markdown",
   "id": "74db82c7",
   "metadata": {},
   "source": [
    "# Bot saves princess"
   ]
  },
  {
   "cell_type": "markdown",
   "id": "802f4241",
   "metadata": {},
   "source": [
    "In principle it passed all the 3 tests <br>\n",
    "https://www.hackerrank.com/challenges/saveprincess/problem"
   ]
  },
  {
   "cell_type": "markdown",
   "id": "016a4d8c",
   "metadata": {},
   "source": [
    "Princess Peach is trapped in one of the four corners of a square grid. You are in the center of the grid and can move one step at a time in any of the four directions. Can you rescue the princess?\n",
    "\n",
    "## Input format\n",
    "\n",
    "The first line contains an odd integer N (3 <= N < 100) denoting the size of the grid. This is followed by an NxN grid. Each cell is denoted by '-' (ascii value: 45). The bot position is denoted by 'm' and the princess position is denoted by 'p'.\n",
    "\n",
    "Grid is indexed using Matrix Convention\n",
    "\n",
    "## Output format\n",
    "\n",
    "Print out the moves you will take to rescue the princess in one go. The moves must be separated by '\\n', a newline. The valid moves are LEFT or RIGHT or UP or DOWN.\n",
    "\n",
    "### Sample input\n",
    "\n",
    "3  <br>\n",
    "`---` <br>\n",
    "-m- <br>\n",
    "p-- <br>\n",
    "### Sample output\n",
    "\n",
    "DOWN\n",
    "LEFT\n",
    "\n",
    "## Task\n",
    "\n",
    "Complete the function displayPathtoPrincess which takes in two parameters - the integer N and the character array grid. The grid will be formatted exactly as you see it in the input, so for the sample input the princess is at grid[2][0]. The function shall output moves (LEFT, RIGHT, UP or DOWN) on consecutive lines to rescue/reach the princess. The goal is to reach the princess in as few moves as possible.\n",
    "\n",
    "The above sample input is just to help you understand the format. The princess ('p') can be in any one of the four corners.\n",
    "\n",
    "## Scoring\n",
    "Your score is calculated as follows : (NxN - number of moves made to rescue the princess)/10, where N is the size of the grid (3x3 in the sample testcase)."
   ]
  },
  {
   "cell_type": "markdown",
   "id": "14e5d837",
   "metadata": {},
   "source": [
    "## My solution"
   ]
  },
  {
   "cell_type": "code",
   "execution_count": null,
   "id": "dae654b7",
   "metadata": {},
   "outputs": [],
   "source": [
    "#!/usr/bin/python\n",
    "from math import floor\n",
    "def displayPathtoPrincess(n,grid):\n",
    "    linegrid = \"\".join(grid)\n",
    "    p_position=linegrid.index('p')\n",
    "    vert_move = 'UP' if p_position<n else 'DOWN'\n",
    "    hor_move  = 'LEFT' if p_position%n==0 else 'RIGHT'\n",
    "    for moves in range(floor(n/2)):\n",
    "        print(f'{vert_move}')\n",
    "        print(f'{hor_move}')\n",
    "    \n",
    "#print all the moves here\n",
    "\n",
    "m = int(input())\n",
    "grid = [] \n",
    "for i in range(0, m): \n",
    "    grid.append(input().strip())\n",
    "displayPathtoPrincess(m,grid)"
   ]
  },
  {
   "cell_type": "code",
   "execution_count": null,
   "id": "f4b5b70a",
   "metadata": {},
   "outputs": [],
   "source": []
  }
 ],
 "metadata": {
  "kernelspec": {
   "display_name": "Python 3 (ipykernel)",
   "language": "python",
   "name": "python3"
  },
  "language_info": {
   "codemirror_mode": {
    "name": "ipython",
    "version": 3
   },
   "file_extension": ".py",
   "mimetype": "text/x-python",
   "name": "python",
   "nbconvert_exporter": "python",
   "pygments_lexer": "ipython3",
   "version": "3.11.4"
  }
 },
 "nbformat": 4,
 "nbformat_minor": 5
}
