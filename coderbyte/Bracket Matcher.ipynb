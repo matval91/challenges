{
 "cells": [
  {
   "cell_type": "markdown",
   "id": "8b2c5f59",
   "metadata": {},
   "source": [
    "# Bracket Matcher"
   ]
  },
  {
   "cell_type": "markdown",
   "id": "941d728c",
   "metadata": {},
   "source": [
    "## 9/10 on Coderbyte (10/10 with reprise)\n",
    "https://coderbyte.com/results/matval:Bracket%20Matcher:Python3"
   ]
  },
  {
   "cell_type": "markdown",
   "id": "4f664eea",
   "metadata": {},
   "source": [
    "Have the function BracketMatcher(str) take the str parameter being passed and return 1 if the brackets are correctly matched and each one is accounted for. Otherwise return 0. For example: if str is \"(hello (world))\", then the output should be 1, but if str is \"((hello (world))\" the the output should be 0 because the brackets do not correctly match up. Only \"(\" and \")\" will be used as brackets. If str contains no brackets return 1."
   ]
  },
  {
   "cell_type": "code",
   "execution_count": 2,
   "id": "4a924bcc",
   "metadata": {},
   "outputs": [],
   "source": [
    "import re\n",
    "def BracketMatcher(strParam):\n",
    "    brackets = re.findall(r'[()\\[\\]{}]', strParam)\n",
    "    if not brackets: return 1\n",
    "    open_round = 0; open_square=0; open_curl=0\n",
    "    for el in brackets:\n",
    "        if el == '(': open_round+=1\n",
    "        elif el == '[': open_square+=1\n",
    "        elif el == '{': open_curl+=1\n",
    "        elif el == ')': open_round-=1\n",
    "        elif el == ']': open_square-=1\n",
    "        elif el == '}': open_curl-=1\n",
    "        if any(oo<0 for oo in [open_round, open_square, open_curl]):\n",
    "            return 0\n",
    "    if any(oo!=0 for oo in [open_round, open_square, open_curl]):\n",
    "        return 0\n",
    "    return 1"
   ]
  },
  {
   "cell_type": "markdown",
   "id": "cf765b39",
   "metadata": {},
   "source": [
    "## Test"
   ]
  },
  {
   "cell_type": "code",
   "execution_count": 3,
   "id": "5f76e026",
   "metadata": {},
   "outputs": [
    {
     "name": "stdout",
     "output_type": "stream",
     "text": [
      "1\n"
     ]
    }
   ],
   "source": [
    "# keep this function call here \n",
    "print(BracketMatcher(\"hello()\"))"
   ]
  }
 ],
 "metadata": {
  "kernelspec": {
   "display_name": "Python 3 (ipykernel)",
   "language": "python",
   "name": "python3"
  },
  "language_info": {
   "codemirror_mode": {
    "name": "ipython",
    "version": 3
   },
   "file_extension": ".py",
   "mimetype": "text/x-python",
   "name": "python",
   "nbconvert_exporter": "python",
   "pygments_lexer": "ipython3",
   "version": "3.11.4"
  }
 },
 "nbformat": 4,
 "nbformat_minor": 5
}
