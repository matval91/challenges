{
 "cells": [
  {
   "cell_type": "markdown",
   "id": "31fdd4f8",
   "metadata": {},
   "source": [
    "# Min Window substring"
   ]
  },
  {
   "cell_type": "markdown",
   "id": "ad38db41",
   "metadata": {},
   "source": [
    "## This script got actually 3/10 because I submitted it the night after I started it, so I got 0/10 for coding\n",
    "https://coderbyte.com/results/matval:Min%20Window%20Substring:Python3"
   ]
  },
  {
   "cell_type": "markdown",
   "id": "80466bfd",
   "metadata": {},
   "source": [
    "Have the function MinWindowSubstring(strArr) take the array of strings stored in strArr, which will contain only two strings, the first parameter being the string N and the second parameter being a string K of some characters, and your goal is to determine the smallest substring of N that contains all the characters in K. For example: if strArr is [\"aaabaaddae\", \"aed\"] then the smallest substring of N that contains the characters a, e, and d is \"dae\" located at the end of the string. So for this example your program should return the string dae.\n",
    "\n",
    "Another example: if strArr is [\"aabdccdbcacd\", \"aad\"] then the smallest substring of N that contains all of the characters in K is \"aabd\" which is located at the beginning of the string. Both parameters will be strings ranging in length from 1 to 50 characters and all of K's characters will exist somewhere in the string N. Both strings will only contains lowercase alphabetic characters."
   ]
  },
  {
   "cell_type": "markdown",
   "id": "4e9985fb",
   "metadata": {},
   "source": [
    "## My Solution"
   ]
  },
  {
   "cell_type": "code",
   "execution_count": 1,
   "id": "d251db4a",
   "metadata": {},
   "outputs": [],
   "source": [
    "def MinWindowSubstring(strArr):\n",
    "  length_N=len(strArr[0])\n",
    "  length_K=len(strArr[1])\n",
    "  bool_all_find=0\n",
    "  # code goes here\n",
    "  for substr_l in range(length_K, length_N):\n",
    "    for start_index in range(length_N-length_K):\n",
    "      for letter in strArr[1]:\n",
    "        indexes = [x for x, v in enumerate(strArr[0][start_index:start_index+substr_l]) if v == letter]\n",
    "        if len(indexes)<strArr[1].count(letter):\n",
    "          bool_all_find=0; break\n",
    "        else:\n",
    "          bool_all_find+=len(indexes)\n",
    "\n",
    "      if bool_all_find>=length_K:\n",
    "        print(f'{strArr[0][start_index:start_index+substr_l]}')\n",
    "        quit()\n",
    "\n",
    "  return None"
   ]
  },
  {
   "cell_type": "markdown",
   "id": "2c2bfdfc",
   "metadata": {},
   "source": [
    "## Test"
   ]
  },
  {
   "cell_type": "code",
   "execution_count": 3,
   "id": "2c4be9db",
   "metadata": {},
   "outputs": [
    {
     "name": "stdout",
     "output_type": "stream",
     "text": [
      " [\"aaabaaddae\", \"aed\"]\n",
      "None\n"
     ]
    }
   ],
   "source": [
    "# keep this function call here \n",
    "print(MinWindowSubstring(input()))"
   ]
  }
 ],
 "metadata": {
  "kernelspec": {
   "display_name": "Python 3 (ipykernel)",
   "language": "python",
   "name": "python3"
  },
  "language_info": {
   "codemirror_mode": {
    "name": "ipython",
    "version": 3
   },
   "file_extension": ".py",
   "mimetype": "text/x-python",
   "name": "python",
   "nbconvert_exporter": "python",
   "pygments_lexer": "ipython3",
   "version": "3.11.4"
  }
 },
 "nbformat": 4,
 "nbformat_minor": 5
}
