{
 "cells": [
  {
   "cell_type": "markdown",
   "id": "1da6a28a",
   "metadata": {},
   "source": [
    "# Binary Tree"
   ]
  },
  {
   "cell_type": "markdown",
   "id": "6e519ed0",
   "metadata": {},
   "source": [
    "## This script got a 9/10 score \n",
    "https://coderbyte.com/information/Tree%20Constructor"
   ]
  },
  {
   "cell_type": "markdown",
   "id": "15283229",
   "metadata": {},
   "source": [
    "Have the function TreeConstructor(strArr) take the array of strings stored in strArr, which will contain pairs of integers in the following format: (i1,i2), where i1 represents a child node in a tree and the second integer i2 signifies that it is the parent of i1. For example: if strArr is [\"(1,2)\", \"(2,4)\", \"(7,2)\"], then this forms the following tree:\n",
    "\n",
    "\n",
    "\n",
    "which you can see forms a proper binary tree. Your program should, in this case, return the string true because a valid binary tree can be formed. If a proper binary tree cannot be formed with the integer pairs, then return the string false. All of the integers within the tree will be unique, which means there can only be one node in the tree with the given integer value."
   ]
  },
  {
   "cell_type": "markdown",
   "id": "f94dfa40",
   "metadata": {},
   "source": [
    "## My solution"
   ]
  },
  {
   "cell_type": "code",
   "execution_count": 8,
   "id": "178c649b",
   "metadata": {},
   "outputs": [],
   "source": [
    "import re\n",
    "from collections import Counter\n",
    "\n",
    "def TreeConstructor(strArr):\n",
    "    text = \" \".join(strArr)\n",
    "    pattern = r',([^)]+)'\n",
    "    bottom_nums = [int(char) for char in re.findall(pattern, text)]\n",
    "    bottom_count = Counter(bottom_nums)\n",
    "    if any(count>2 for count in bottom_count.values()):\n",
    "        return False\n",
    "    else:\n",
    "        return True"
   ]
  },
  {
   "cell_type": "markdown",
   "id": "ffff48e3",
   "metadata": {},
   "source": [
    "## Test"
   ]
  },
  {
   "cell_type": "code",
   "execution_count": 9,
   "id": "9429f87f",
   "metadata": {},
   "outputs": [
    {
     "name": "stdout",
     "output_type": "stream",
     "text": [
      "True\n"
     ]
    }
   ],
   "source": [
    "print(TreeConstructor([\"(1,2)\", \"(2,4)\", \"(7,2)\"]))"
   ]
  }
 ],
 "metadata": {
  "kernelspec": {
   "display_name": "Python 3 (ipykernel)",
   "language": "python",
   "name": "python3"
  },
  "language_info": {
   "codemirror_mode": {
    "name": "ipython",
    "version": 3
   },
   "file_extension": ".py",
   "mimetype": "text/x-python",
   "name": "python",
   "nbconvert_exporter": "python",
   "pygments_lexer": "ipython3",
   "version": "3.11.4"
  }
 },
 "nbformat": 4,
 "nbformat_minor": 5
}
